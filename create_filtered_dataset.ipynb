{
 "cells": [
  {
   "metadata": {},
   "cell_type": "markdown",
   "source": [
    "# Dataset creation\n",
    "\n",
    "This code performs several data processing tasks using pandas to manipulate a series of EEG (Electroencephalography) data files.\n",
    "\n",
    "The main characteristics of this code are:\n",
    "\n",
    "1. **Adjusting Size**: It finds the minimum number of rows among all the DataFrames and trims each DataFrame to that minimum length to ensure they all have the same number of rows.\n",
    "\n",
    "2. **Dividing DataFrames**: It defines a function `divide_into_10` that divides a DataFrame into 10 equal parts and resets the indices of each part. Then, it applies this function to each trimmed DataFrame and stores the parts in a dictionary `divided_dataframes`.\n",
    "\n",
    "3. **Processing DataFrames**: For each DataFrame in `divided_dataframes`, it applies the transposition function to each of the 10 parts, concatenates the transposed parts into a single DataFrame, and assigns a corresponding target.\n",
    "\n",
    "4. **Final Combination**: It concatenates all the combined DataFrames with their respective targets into a single final DataFrame `final_combined_dataframe`.\n"
   ],
   "id": "a7d7be432d824a01"
  },
  {
   "metadata": {
    "ExecuteTime": {
     "end_time": "2024-07-29T20:51:02.442059Z",
     "start_time": "2024-07-29T20:51:02.046378Z"
    }
   },
   "cell_type": "code",
   "source": "import pandas as pd",
   "id": "4d10d496e172891b",
   "outputs": [],
   "execution_count": 1
  },
  {
   "metadata": {
    "ExecuteTime": {
     "end_time": "2024-07-29T20:51:02.550372Z",
     "start_time": "2024-07-29T20:51:02.443441Z"
    }
   },
   "cell_type": "code",
   "source": [
    "column_names = ['timestamp', 'counter', 'eeg', 'attention', 'meditation', 'blinking']\n",
    "baseline = pd.read_csv('data/baseline.dat', delimiter=' ', names=column_names)\n",
    "exhalar = pd.read_csv('data/exhalar.dat', delimiter=' ', names=column_names)\n",
    "golpes1 = pd.read_csv('data/golpes1.dat', delimiter=' ', names=column_names)\n",
    "golpes2 = pd.read_csv('data/golpes2.dat', delimiter=' ', names=column_names)\n",
    "cerrados = pd.read_csv('data/cerrados.dat', delimiter=' ', names=column_names)\n",
    "mentalimagery = pd.read_csv('data/mentalimagery.dat', delimiter=' ', names=column_names)\n",
    "pestaneos = pd.read_csv('data/pestaneos.dat', delimiter=' ', names=column_names)\n",
    "inhalar = pd.read_csv('data/inhalar.dat', delimiter=' ', names=column_names)"
   ],
   "id": "a15bd421c93cefd8",
   "outputs": [],
   "execution_count": 2
  },
  {
   "metadata": {},
   "cell_type": "markdown",
   "source": "## Dataset Filter",
   "id": "647b6753d75bae62"
  },
  {
   "metadata": {
    "ExecuteTime": {
     "end_time": "2024-07-29T20:51:02.895625Z",
     "start_time": "2024-07-29T20:51:02.551307Z"
    }
   },
   "cell_type": "code",
   "source": [
    "import numpy as np\n",
    "from scipy.signal import butter, lfilter"
   ],
   "id": "b6595d651c9cd6e3",
   "outputs": [],
   "execution_count": 3
  },
  {
   "metadata": {
    "ExecuteTime": {
     "end_time": "2024-07-29T20:51:02.903730Z",
     "start_time": "2024-07-29T20:51:02.897882Z"
    }
   },
   "cell_type": "code",
   "source": [
    "def butter_bandpass(lowcut, highcut, fs, order=5):\n",
    "    nyq = 0.5 * fs\n",
    "    low = lowcut / nyq\n",
    "    high = highcut / nyq\n",
    "    b, a = butter(order, [low, high], btype='band')\n",
    "    return b, a\n",
    "\n",
    "\n",
    "def butter_bandpass_filter(data, lowcut, highcut, fs, order=5):\n",
    "    b, a = butter_bandpass(lowcut, highcut, fs, order=order)\n",
    "    y = lfilter(b, a, data)\n",
    "    return y"
   ],
   "id": "820cb5cdd8a7d5f7",
   "outputs": [],
   "execution_count": 4
  },
  {
   "metadata": {
    "ExecuteTime": {
     "end_time": "2024-07-29T20:51:02.913699Z",
     "start_time": "2024-07-29T20:51:02.905055Z"
    }
   },
   "cell_type": "code",
   "source": "mentalimagery['eeg'] = butter_bandpass_filter(mentalimagery['eeg'], 10, 50, 512, 5)",
   "id": "b1cc82af8400df3b",
   "outputs": [],
   "execution_count": 5
  },
  {
   "metadata": {
    "ExecuteTime": {
     "end_time": "2024-07-29T20:51:02.922060Z",
     "start_time": "2024-07-29T20:51:02.915117Z"
    }
   },
   "cell_type": "code",
   "source": "mentalimagery['eeg']",
   "id": "2f607a2ebd558ff7",
   "outputs": [
    {
     "data": {
      "text/plain": [
       "0        -0.010588\n",
       "1        -0.090561\n",
       "2        -0.372605\n",
       "3        -0.997763\n",
       "4        -1.984062\n",
       "           ...    \n",
       "30855   -15.021058\n",
       "30856   -16.187874\n",
       "30857   -17.132227\n",
       "30858   -17.406881\n",
       "30859   -16.705947\n",
       "Name: eeg, Length: 30860, dtype: float64"
      ]
     },
     "execution_count": 6,
     "metadata": {},
     "output_type": "execute_result"
    }
   ],
   "execution_count": 6
  },
  {
   "metadata": {},
   "cell_type": "markdown",
   "source": "### Dividir dataset",
   "id": "b4a5cdf5b02431c1"
  },
  {
   "metadata": {
    "ExecuteTime": {
     "end_time": "2024-07-29T20:51:02.926298Z",
     "start_time": "2024-07-29T20:51:02.923442Z"
    }
   },
   "cell_type": "code",
   "source": "partition_number = 100",
   "id": "462bfd01673eaed7",
   "outputs": [],
   "execution_count": 7
  },
  {
   "metadata": {
    "ExecuteTime": {
     "end_time": "2024-07-29T20:51:02.987945Z",
     "start_time": "2024-07-29T20:51:02.927388Z"
    }
   },
   "cell_type": "code",
   "source": [
    "dataframes = [baseline, exhalar, golpes1, golpes2, cerrados, mentalimagery, pestaneos, inhalar]\n",
    "min_length = min(df.shape[0] for df in dataframes)\n",
    "dataframes_trimmed = [df.iloc[:min_length] for df in dataframes]\n",
    "\n",
    "def divide_into(df):\n",
    "    rows_per_df = len(df) // partition_number\n",
    "    return [df.iloc[i*rows_per_df: (i+1)*rows_per_df].reset_index(drop=True) for i in range(partition_number)]\n",
    "\n",
    "divided_dataframes = {}\n",
    "for i, df in enumerate(dataframes_trimmed):\n",
    "    divided_dataframes[f'dataframe_{i+1}'] = divide_into(df)"
   ],
   "id": "83ccab20ac82852b",
   "outputs": [],
   "execution_count": 8
  },
  {
   "metadata": {},
   "cell_type": "markdown",
   "source": "### Create dataset\n",
   "id": "536f7705ee77e02c"
  },
  {
   "metadata": {
    "ExecuteTime": {
     "end_time": "2024-07-29T20:51:03.309498Z",
     "start_time": "2024-07-29T20:51:02.988942Z"
    }
   },
   "cell_type": "code",
   "source": [
    "def transpose_eeg_dataframe(df):\n",
    "    transposed_df = df['eeg'].to_frame().T\n",
    "    transposed_df.columns = [f'row_{i}' for i in df.index]\n",
    "    return transposed_df\n",
    "\n",
    "targets = {\n",
    "    'dataframe_1': 'baseline',\n",
    "    'dataframe_2': 'exhalar',\n",
    "    'dataframe_3': 'golpes1',\n",
    "    'dataframe_4': 'golpes2',\n",
    "    'dataframe_5': 'cerrados',\n",
    "    'dataframe_6': 'mentalimagery',\n",
    "    'dataframe_7': 'pestaneos',\n",
    "    'dataframe_8': 'inhalar'\n",
    "}\n",
    "\n",
    "all_combined_dataframes = []\n",
    "for key, target in targets.items():\n",
    "    dataframe_list = divided_dataframes[key]\n",
    "    transposed_dataframes = []\n",
    "    for df in dataframe_list:\n",
    "        transposed_df = transpose_eeg_dataframe(df)\n",
    "        transposed_dataframes.append(transposed_df)\n",
    "    combined_dataframe = pd.concat(transposed_dataframes, ignore_index=True)\n",
    "    combined_dataframe['target'] = target\n",
    "    all_combined_dataframes.append(combined_dataframe)\n",
    "\n",
    "final_combined_dataframe = pd.concat(all_combined_dataframes, ignore_index=True)\n",
    "\n",
    "print(final_combined_dataframe)"
   ],
   "id": "19739d5f5b6bd9db",
   "outputs": [
    {
     "name": "stdout",
     "output_type": "stream",
     "text": [
      "     row_0  row_1  row_2  row_3  row_4  row_5  row_6  row_7  row_8  row_9  \\\n",
      "0     90.0  104.0  104.0  100.0  105.0  114.0   89.0   58.0   36.0   33.0   \n",
      "1      3.0   11.0   24.0   32.0   18.0   -6.0  -14.0   -2.0    3.0    3.0   \n",
      "2   -342.0 -326.0 -339.0 -341.0 -331.0 -334.0 -347.0 -370.0 -387.0 -406.0   \n",
      "3     -6.0   21.0   41.0   45.0   51.0   59.0   57.0   22.0  -21.0  -21.0   \n",
      "4     25.0   19.0   10.0    0.0   -5.0   -1.0   16.0   24.0   35.0   45.0   \n",
      "..     ...    ...    ...    ...    ...    ...    ...    ...    ...    ...   \n",
      "795   53.0   81.0   92.0   76.0   65.0   45.0   35.0   43.0   45.0   51.0   \n",
      "796   51.0   39.0   23.0   34.0   57.0   40.0    6.0   -5.0   22.0   38.0   \n",
      "797   22.0   68.0   21.0  -51.0  -75.0  -50.0  -50.0  -44.0  -12.0   23.0   \n",
      "798   10.0    9.0   36.0   59.0   42.0   -2.0  -33.0  -34.0   -7.0   16.0   \n",
      "799  -17.0    8.0   11.0   54.0   69.0   16.0   10.0   55.0   67.0   42.0   \n",
      "\n",
      "     ...  row_299  row_300  row_301  row_302  row_303  row_304  row_305  \\\n",
      "0    ...     16.0      1.0     10.0     34.0     39.0     16.0    -11.0   \n",
      "1    ...   -307.0   -326.0   -317.0   -314.0   -342.0   -382.0   -403.0   \n",
      "2    ...     18.0     17.0     32.0     32.0     18.0      9.0     21.0   \n",
      "3    ...     24.0     12.0     11.0      9.0      2.0    -11.0    -13.0   \n",
      "4    ...     12.0     32.0     49.0     66.0     66.0     64.0     67.0   \n",
      "..   ...      ...      ...      ...      ...      ...      ...      ...   \n",
      "795  ...     28.0     22.0     22.0     24.0     37.0     49.0     28.0   \n",
      "796  ...      3.0      4.0     -6.0     -8.0      3.0     -2.0    -20.0   \n",
      "797  ...     72.0     41.0     17.0     35.0     53.0     42.0     29.0   \n",
      "798  ...    -67.0    -22.0     -5.0    -34.0    -40.0     -7.0      8.0   \n",
      "799  ...     43.0     57.0     59.0     54.0     71.0     90.0     88.0   \n",
      "\n",
      "     row_306  row_307    target  \n",
      "0      -17.0     -3.0  baseline  \n",
      "1     -393.0   -374.0  baseline  \n",
      "2       21.0      1.0  baseline  \n",
      "3        7.0     32.0  baseline  \n",
      "4       45.0     10.0  baseline  \n",
      "..       ...      ...       ...  \n",
      "795     27.0     45.0   inhalar  \n",
      "796    -29.0    -20.0   inhalar  \n",
      "797     33.0     28.0   inhalar  \n",
      "798    -19.0    -43.0   inhalar  \n",
      "799     61.0     33.0   inhalar  \n",
      "\n",
      "[800 rows x 309 columns]\n"
     ]
    }
   ],
   "execution_count": 9
  },
  {
   "metadata": {
    "ExecuteTime": {
     "end_time": "2024-07-29T20:51:03.462560Z",
     "start_time": "2024-07-29T20:51:03.311680Z"
    }
   },
   "cell_type": "code",
   "source": [
    "file_name = f'data/combined_dataset_filtered_{partition_number}_partitions.csv'\n",
    "final_combined_dataframe.to_csv(file_name, index=False)"
   ],
   "id": "fdab5a42ce32ee75",
   "outputs": [],
   "execution_count": 10
  },
  {
   "metadata": {
    "ExecuteTime": {
     "end_time": "2024-07-29T20:51:03.465608Z",
     "start_time": "2024-07-29T20:51:03.463660Z"
    }
   },
   "cell_type": "code",
   "source": "",
   "id": "6b4103866bab4108",
   "outputs": [],
   "execution_count": 10
  }
 ],
 "metadata": {
  "kernelspec": {
   "display_name": "Python 3",
   "language": "python",
   "name": "python3"
  },
  "language_info": {
   "codemirror_mode": {
    "name": "ipython",
    "version": 2
   },
   "file_extension": ".py",
   "mimetype": "text/x-python",
   "name": "python",
   "nbconvert_exporter": "python",
   "pygments_lexer": "ipython2",
   "version": "2.7.6"
  }
 },
 "nbformat": 4,
 "nbformat_minor": 5
}
