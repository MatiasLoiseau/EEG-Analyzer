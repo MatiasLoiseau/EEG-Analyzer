{
 "cells": [
  {
   "metadata": {},
   "cell_type": "markdown",
   "source": [
    "# Dataset creation\n",
    "\n",
    "This code performs several data processing tasks using pandas to manipulate a series of EEG (Electroencephalography) data files.\n",
    "\n",
    "The main characteristics of this code are:\n",
    "\n",
    "1. **Adjusting Size**: It finds the minimum number of rows among all the DataFrames and trims each DataFrame to that minimum length to ensure they all have the same number of rows.\n",
    "\n",
    "2. **Dividing DataFrames**: It defines a function `divide_into_10` that divides a DataFrame into 10 equal parts and resets the indices of each part. Then, it applies this function to each trimmed DataFrame and stores the parts in a dictionary `divided_dataframes`.\n",
    "\n",
    "3. **Processing DataFrames**: For each DataFrame in `divided_dataframes`, it applies the transposition function to each of the 10 parts, concatenates the transposed parts into a single DataFrame, and assigns a corresponding target.\n",
    "\n",
    "4. **Final Combination**: It concatenates all the combined DataFrames with their respective targets into a single final DataFrame `final_combined_dataframe`.\n"
   ],
   "id": "a7d7be432d824a01"
  },
  {
   "metadata": {
    "ExecuteTime": {
     "end_time": "2024-07-29T21:22:30.157481Z",
     "start_time": "2024-07-29T21:22:29.808374Z"
    }
   },
   "cell_type": "code",
   "source": "import pandas as pd",
   "id": "4d10d496e172891b",
   "outputs": [],
   "execution_count": 1
  },
  {
   "metadata": {
    "ExecuteTime": {
     "end_time": "2024-07-29T21:22:30.296781Z",
     "start_time": "2024-07-29T21:22:30.158944Z"
    }
   },
   "cell_type": "code",
   "source": [
    "column_names = ['timestamp', 'counter', 'eeg', 'attention', 'meditation', 'blinking']\n",
    "baseline = pd.read_csv('data/baseline.dat', delimiter=' ', names=column_names)\n",
    "exhalar = pd.read_csv('data/exhalar.dat', delimiter=' ', names=column_names)\n",
    "golpes1 = pd.read_csv('data/golpes1.dat', delimiter=' ', names=column_names)\n",
    "golpes2 = pd.read_csv('data/golpes2.dat', delimiter=' ', names=column_names)\n",
    "cerrados = pd.read_csv('data/cerrados.dat', delimiter=' ', names=column_names)\n",
    "mentalimagery = pd.read_csv('data/mentalimagery.dat', delimiter=' ', names=column_names)\n",
    "pestaneos = pd.read_csv('data/pestaneos.dat', delimiter=' ', names=column_names)\n",
    "inhalar = pd.read_csv('data/inhalar.dat', delimiter=' ', names=column_names)"
   ],
   "id": "a15bd421c93cefd8",
   "outputs": [],
   "execution_count": 2
  },
  {
   "metadata": {},
   "cell_type": "markdown",
   "source": "## Dataset Filter",
   "id": "647b6753d75bae62"
  },
  {
   "metadata": {
    "ExecuteTime": {
     "end_time": "2024-07-29T21:22:30.623244Z",
     "start_time": "2024-07-29T21:22:30.297834Z"
    }
   },
   "cell_type": "code",
   "source": [
    "import numpy as np\n",
    "from scipy.signal import butter, lfilter"
   ],
   "id": "b6595d651c9cd6e3",
   "outputs": [],
   "execution_count": 3
  },
  {
   "metadata": {
    "ExecuteTime": {
     "end_time": "2024-07-29T21:22:30.632586Z",
     "start_time": "2024-07-29T21:22:30.625084Z"
    }
   },
   "cell_type": "code",
   "source": [
    "def butter_bandpass(lowcut, highcut, fs, order=5):\n",
    "    nyq = 0.5 * fs\n",
    "    low = lowcut / nyq\n",
    "    high = highcut / nyq\n",
    "    b, a = butter(order, [low, high], btype='band')\n",
    "    return b, a\n",
    "\n",
    "\n",
    "def butter_bandpass_filter(data, lowcut, highcut, fs, order=5):\n",
    "    b, a = butter_bandpass(lowcut, highcut, fs, order=order)\n",
    "    y = lfilter(b, a, data)\n",
    "    return y"
   ],
   "id": "820cb5cdd8a7d5f7",
   "outputs": [],
   "execution_count": 4
  },
  {
   "metadata": {
    "ExecuteTime": {
     "end_time": "2024-07-29T21:22:30.649092Z",
     "start_time": "2024-07-29T21:22:30.635138Z"
    }
   },
   "cell_type": "code",
   "source": [
    "mentalimagery['eeg'] = butter_bandpass_filter(mentalimagery['eeg'], 10, 50, 512, 5)\n",
    "cerrados['eeg'] = butter_bandpass_filter(cerrados['eeg'], 5, 15, 512, 5)\n",
    "inhalar['eeg'] = butter_bandpass_filter(inhalar['eeg'], 1, 15, 512, 5)\n",
    "exhalar['eeg'] = butter_bandpass_filter(exhalar['eeg'], 1, 15, 512, 5)"
   ],
   "id": "b1cc82af8400df3b",
   "outputs": [],
   "execution_count": 5
  },
  {
   "metadata": {},
   "cell_type": "markdown",
   "source": "### Dividir dataset",
   "id": "b4a5cdf5b02431c1"
  },
  {
   "metadata": {
    "ExecuteTime": {
     "end_time": "2024-07-29T21:22:30.652514Z",
     "start_time": "2024-07-29T21:22:30.649951Z"
    }
   },
   "cell_type": "code",
   "source": "partition_number = 100",
   "id": "462bfd01673eaed7",
   "outputs": [],
   "execution_count": 6
  },
  {
   "metadata": {
    "ExecuteTime": {
     "end_time": "2024-07-29T21:22:30.726258Z",
     "start_time": "2024-07-29T21:22:30.653990Z"
    }
   },
   "cell_type": "code",
   "source": [
    "#dataframes = [baseline, exhalar, golpes1, golpes2, cerrados, mentalimagery, pestaneos, inhalar]\n",
    "dataframes = [baseline, exhalar, cerrados, mentalimagery, pestaneos, inhalar]\n",
    "min_length = min(df.shape[0] for df in dataframes)\n",
    "dataframes_trimmed = [df.iloc[:min_length] for df in dataframes]\n",
    "\n",
    "def divide_into(df):\n",
    "    rows_per_df = len(df) // partition_number\n",
    "    return [df.iloc[i*rows_per_df: (i+1)*rows_per_df].reset_index(drop=True) for i in range(partition_number)]\n",
    "\n",
    "divided_dataframes = {}\n",
    "for i, df in enumerate(dataframes_trimmed):\n",
    "    divided_dataframes[f'dataframe_{i+1}'] = divide_into(df)"
   ],
   "id": "83ccab20ac82852b",
   "outputs": [],
   "execution_count": 7
  },
  {
   "metadata": {},
   "cell_type": "markdown",
   "source": "### Create dataset\n",
   "id": "536f7705ee77e02c"
  },
  {
   "metadata": {
    "ExecuteTime": {
     "end_time": "2024-07-29T21:22:30.967384Z",
     "start_time": "2024-07-29T21:22:30.727229Z"
    }
   },
   "cell_type": "code",
   "source": [
    "def transpose_eeg_dataframe(df):\n",
    "    transposed_df = df['eeg'].to_frame().T\n",
    "    transposed_df.columns = [f'row_{i}' for i in df.index]\n",
    "    return transposed_df\n",
    "\n",
    "targets = {\n",
    "    'dataframe_1': 'baseline',\n",
    "    'dataframe_2': 'exhalar',\n",
    "    #'dataframe_3': 'golpes1',\n",
    "    #'dataframe_4': 'golpes2',\n",
    "    'dataframe_3': 'cerrados',\n",
    "    'dataframe_4': 'mentalimagery',\n",
    "    'dataframe_5': 'pestaneos',\n",
    "    'dataframe_6': 'inhalar'\n",
    "}\n",
    "\n",
    "all_combined_dataframes = []\n",
    "for key, target in targets.items():\n",
    "    dataframe_list = divided_dataframes[key]\n",
    "    transposed_dataframes = []\n",
    "    for df in dataframe_list:\n",
    "        transposed_df = transpose_eeg_dataframe(df)\n",
    "        transposed_dataframes.append(transposed_df)\n",
    "    combined_dataframe = pd.concat(transposed_dataframes, ignore_index=True)\n",
    "    combined_dataframe['target'] = target\n",
    "    all_combined_dataframes.append(combined_dataframe)\n",
    "\n",
    "final_combined_dataframe = pd.concat(all_combined_dataframes, ignore_index=True)\n",
    "\n",
    "print(final_combined_dataframe)"
   ],
   "id": "19739d5f5b6bd9db",
   "outputs": [
    {
     "name": "stdout",
     "output_type": "stream",
     "text": [
      "            row_0         row_1         row_2         row_3         row_4  \\\n",
      "0    9.000000e+01  1.040000e+02  1.040000e+02  1.000000e+02  1.050000e+02   \n",
      "1    3.000000e+00  1.100000e+01  2.400000e+01  3.200000e+01  1.800000e+01   \n",
      "2   -3.420000e+02 -3.260000e+02 -3.390000e+02 -3.410000e+02 -3.310000e+02   \n",
      "3   -6.000000e+00  2.100000e+01  4.100000e+01  4.500000e+01  5.100000e+01   \n",
      "4    2.500000e+01  1.900000e+01  1.000000e+01  0.000000e+00 -5.000000e+00   \n",
      "..            ...           ...           ...           ...           ...   \n",
      "595 -1.348205e+07 -1.351810e+07 -1.355264e+07 -1.358568e+07 -1.361721e+07   \n",
      "596  1.588049e+07  1.590177e+07  1.592128e+07  1.593901e+07  1.595495e+07   \n",
      "597 -1.869657e+07 -1.869439e+07 -1.869011e+07 -1.868370e+07 -1.867518e+07   \n",
      "598  2.167341e+07  2.164222e+07  2.160855e+07  2.157240e+07  2.153378e+07   \n",
      "599 -2.479696e+07 -2.472516e+07 -2.465050e+07 -2.457298e+07 -2.449260e+07   \n",
      "\n",
      "            row_5         row_6         row_7         row_8         row_9  \\\n",
      "0    1.140000e+02  8.900000e+01  5.800000e+01  3.600000e+01  3.300000e+01   \n",
      "1   -6.000000e+00 -1.400000e+01 -2.000000e+00  3.000000e+00  3.000000e+00   \n",
      "2   -3.340000e+02 -3.470000e+02 -3.700000e+02 -3.870000e+02 -4.060000e+02   \n",
      "3    5.900000e+01  5.700000e+01  2.200000e+01 -2.100000e+01 -2.100000e+01   \n",
      "4   -1.000000e+00  1.600000e+01  2.400000e+01  3.500000e+01  4.500000e+01   \n",
      "..            ...           ...           ...           ...           ...   \n",
      "595 -1.364721e+07 -1.367570e+07 -1.370266e+07 -1.372808e+07 -1.375198e+07   \n",
      "596  1.596910e+07  1.598146e+07  1.599203e+07  1.600080e+07  1.600776e+07   \n",
      "597 -1.866454e+07 -1.865177e+07 -1.863689e+07 -1.861989e+07 -1.860076e+07   \n",
      "598  2.149268e+07  2.144912e+07  2.140308e+07  2.135458e+07  2.130361e+07   \n",
      "599 -2.440938e+07 -2.432332e+07 -2.423442e+07 -2.414270e+07 -2.404816e+07   \n",
      "\n",
      "     ...       row_299       row_300       row_301       row_302  \\\n",
      "0    ...  1.600000e+01  1.000000e+00  1.000000e+01  3.400000e+01   \n",
      "1    ... -3.070000e+02 -3.260000e+02 -3.170000e+02 -3.140000e+02   \n",
      "2    ...  1.800000e+01  1.700000e+01  3.200000e+01  3.200000e+01   \n",
      "3    ...  2.400000e+01  1.200000e+01  1.100000e+01  9.000000e+00   \n",
      "4    ...  1.200000e+01  3.200000e+01  4.900000e+01  6.600000e+01   \n",
      "..   ...           ...           ...           ...           ...   \n",
      "595  ...  1.560975e+07  1.564681e+07  1.568213e+07  1.571572e+07   \n",
      "596  ... -1.862126e+07 -1.863802e+07 -1.865270e+07 -1.866528e+07   \n",
      "597  ...  2.184259e+07  2.183370e+07  2.182234e+07  2.180850e+07   \n",
      "598  ... -2.531339e+07 -2.526759e+07 -2.521889e+07 -2.516728e+07   \n",
      "599  ...  2.816780e+07  2.807489e+07  2.797872e+07  2.787930e+07   \n",
      "\n",
      "          row_303       row_304       row_305       row_306       row_307  \\\n",
      "0    3.900000e+01  1.600000e+01 -1.100000e+01 -1.700000e+01 -3.000000e+00   \n",
      "1   -3.420000e+02 -3.820000e+02 -4.030000e+02 -3.930000e+02 -3.740000e+02   \n",
      "2    1.800000e+01  9.000000e+00  2.100000e+01  2.100000e+01  1.000000e+00   \n",
      "3    2.000000e+00 -1.100000e+01 -1.300000e+01  7.000000e+00  3.200000e+01   \n",
      "4    6.600000e+01  6.400000e+01  6.700000e+01  4.500000e+01  1.000000e+01   \n",
      "..            ...           ...           ...           ...           ...   \n",
      "595  1.574757e+07  1.577767e+07  1.580602e+07  1.583260e+07  1.585743e+07   \n",
      "596 -1.867576e+07 -1.868413e+07 -1.869040e+07 -1.869457e+07 -1.869662e+07   \n",
      "597  2.179219e+07  2.177339e+07  2.175212e+07  2.172836e+07  2.170213e+07   \n",
      "598 -2.511278e+07 -2.505539e+07 -2.499510e+07 -2.493193e+07 -2.486588e+07   \n",
      "599  2.777663e+07  2.767074e+07  2.756161e+07  2.744927e+07  2.733372e+07   \n",
      "\n",
      "       target  \n",
      "0    baseline  \n",
      "1    baseline  \n",
      "2    baseline  \n",
      "3    baseline  \n",
      "4    baseline  \n",
      "..        ...  \n",
      "595   inhalar  \n",
      "596   inhalar  \n",
      "597   inhalar  \n",
      "598   inhalar  \n",
      "599   inhalar  \n",
      "\n",
      "[600 rows x 309 columns]\n"
     ]
    }
   ],
   "execution_count": 8
  },
  {
   "metadata": {
    "ExecuteTime": {
     "end_time": "2024-07-29T21:22:31.164558Z",
     "start_time": "2024-07-29T21:22:30.968752Z"
    }
   },
   "cell_type": "code",
   "source": [
    "file_name = f'data/combined_dataset_filtered_{partition_number}_partitions.csv'\n",
    "final_combined_dataframe.to_csv(file_name, index=False)"
   ],
   "id": "fdab5a42ce32ee75",
   "outputs": [],
   "execution_count": 9
  },
  {
   "metadata": {
    "ExecuteTime": {
     "end_time": "2024-07-29T21:22:31.167615Z",
     "start_time": "2024-07-29T21:22:31.165767Z"
    }
   },
   "cell_type": "code",
   "source": "",
   "id": "6b4103866bab4108",
   "outputs": [],
   "execution_count": 9
  }
 ],
 "metadata": {
  "kernelspec": {
   "display_name": "Python 3",
   "language": "python",
   "name": "python3"
  },
  "language_info": {
   "codemirror_mode": {
    "name": "ipython",
    "version": 2
   },
   "file_extension": ".py",
   "mimetype": "text/x-python",
   "name": "python",
   "nbconvert_exporter": "python",
   "pygments_lexer": "ipython2",
   "version": "2.7.6"
  }
 },
 "nbformat": 4,
 "nbformat_minor": 5
}
