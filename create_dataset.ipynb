{
 "cells": [
  {
   "metadata": {},
   "cell_type": "markdown",
   "source": [
    "# Dataset creation\n",
    "\n",
    "This code performs several data processing tasks using pandas to manipulate a series of EEG (Electroencephalography) data files.\n",
    "\n",
    "The main characteristics of this code are:\n",
    "\n",
    "1. **Adjusting Size**: It finds the minimum number of rows among all the DataFrames and trims each DataFrame to that minimum length to ensure they all have the same number of rows.\n",
    "\n",
    "2. **Dividing DataFrames**: It defines a function `divide_into_10` that divides a DataFrame into 10 equal parts and resets the indices of each part. Then, it applies this function to each trimmed DataFrame and stores the parts in a dictionary `divided_dataframes`.\n",
    "\n",
    "3. **Processing DataFrames**: For each DataFrame in `divided_dataframes`, it applies the transposition function to each of the 10 parts, concatenates the transposed parts into a single DataFrame, and assigns a corresponding target.\n",
    "\n",
    "4. **Final Combination**: It concatenates all the combined DataFrames with their respective targets into a single final DataFrame `final_combined_dataframe`.\n"
   ],
   "id": "a7d7be432d824a01"
  },
  {
   "metadata": {
    "ExecuteTime": {
     "end_time": "2024-07-21T19:25:51.405213Z",
     "start_time": "2024-07-21T19:25:51.145482Z"
    }
   },
   "cell_type": "code",
   "source": "import pandas as pd",
   "id": "4d10d496e172891b",
   "outputs": [],
   "execution_count": 1
  },
  {
   "metadata": {
    "ExecuteTime": {
     "end_time": "2024-07-21T19:25:51.493964Z",
     "start_time": "2024-07-21T19:25:51.406100Z"
    }
   },
   "cell_type": "code",
   "source": [
    "column_names = ['timestamp', 'counter', 'eeg', 'attention', 'meditation', 'blinking']\n",
    "baseline = pd.read_csv('data/baseline.dat', delimiter=' ', names=column_names)\n",
    "exhalar = pd.read_csv('data/exhalar.dat', delimiter=' ', names=column_names)\n",
    "golpes1 = pd.read_csv('data/golpes1.dat', delimiter=' ', names=column_names)\n",
    "golpes2 = pd.read_csv('data/golpes2.dat', delimiter=' ', names=column_names)\n",
    "cerrados = pd.read_csv('data/cerrados.dat', delimiter=' ', names=column_names)\n",
    "mentalimagery = pd.read_csv('data/mentalimagery.dat', delimiter=' ', names=column_names)\n",
    "pestaneos = pd.read_csv('data/pestaneos.dat', delimiter=' ', names=column_names)\n",
    "inhalar = pd.read_csv('data/inhalar.dat', delimiter=' ', names=column_names)"
   ],
   "id": "a15bd421c93cefd8",
   "outputs": [],
   "execution_count": 2
  },
  {
   "metadata": {},
   "cell_type": "markdown",
   "source": "### Dividir dataset",
   "id": "b4a5cdf5b02431c1"
  },
  {
   "metadata": {
    "ExecuteTime": {
     "end_time": "2024-07-21T19:25:51.497002Z",
     "start_time": "2024-07-21T19:25:51.494808Z"
    }
   },
   "cell_type": "code",
   "source": "partition_number = 150",
   "id": "462bfd01673eaed7",
   "outputs": [],
   "execution_count": 3
  },
  {
   "metadata": {
    "ExecuteTime": {
     "end_time": "2024-07-21T19:25:51.551642Z",
     "start_time": "2024-07-21T19:25:51.498976Z"
    }
   },
   "cell_type": "code",
   "source": [
    "dataframes = [baseline, exhalar, golpes1, golpes2, cerrados, mentalimagery, pestaneos, inhalar]\n",
    "min_length = min(df.shape[0] for df in dataframes)\n",
    "dataframes_trimmed = [df.iloc[:min_length] for df in dataframes]\n",
    "\n",
    "def divide_into(df):\n",
    "    rows_per_df = len(df) // partition_number\n",
    "    return [df.iloc[i*rows_per_df: (i+1)*rows_per_df].reset_index(drop=True) for i in range(partition_number)]\n",
    "\n",
    "divided_dataframes = {}\n",
    "for i, df in enumerate(dataframes_trimmed):\n",
    "    divided_dataframes[f'dataframe_{i+1}'] = divide_into(df)"
   ],
   "id": "83ccab20ac82852b",
   "outputs": [],
   "execution_count": 4
  },
  {
   "metadata": {},
   "cell_type": "markdown",
   "source": "### Create dataset\n",
   "id": "536f7705ee77e02c"
  },
  {
   "metadata": {
    "ExecuteTime": {
     "end_time": "2024-07-21T19:25:51.793801Z",
     "start_time": "2024-07-21T19:25:51.552354Z"
    }
   },
   "cell_type": "code",
   "source": [
    "def transpose_eeg_dataframe(df):\n",
    "    transposed_df = df['eeg'].to_frame().T\n",
    "    transposed_df.columns = [f'row_{i}' for i in df.index]\n",
    "    return transposed_df\n",
    "\n",
    "targets = {\n",
    "    'dataframe_1': 'baseline',\n",
    "    'dataframe_2': 'exhalar',\n",
    "    'dataframe_3': 'golpes1',\n",
    "    'dataframe_4': 'golpes2',\n",
    "    'dataframe_5': 'cerrados',\n",
    "    'dataframe_6': 'mentalimagery',\n",
    "    'dataframe_7': 'pestaneos',\n",
    "    'dataframe_8': 'inhalar'\n",
    "}\n",
    "\n",
    "all_combined_dataframes = []\n",
    "for key, target in targets.items():\n",
    "    dataframe_list = divided_dataframes[key]\n",
    "    transposed_dataframes = []\n",
    "    for df in dataframe_list:\n",
    "        transposed_df = transpose_eeg_dataframe(df)\n",
    "        transposed_dataframes.append(transposed_df)\n",
    "    combined_dataframe = pd.concat(transposed_dataframes, ignore_index=True)\n",
    "    combined_dataframe['target'] = target\n",
    "    all_combined_dataframes.append(combined_dataframe)\n",
    "\n",
    "final_combined_dataframe = pd.concat(all_combined_dataframes, ignore_index=True)\n",
    "\n",
    "print(final_combined_dataframe)"
   ],
   "id": "19739d5f5b6bd9db",
   "outputs": [
    {
     "name": "stdout",
     "output_type": "stream",
     "text": [
      "      row_0  row_1  row_2  row_3  row_4  row_5  row_6  row_7  row_8  row_9  \\\n",
      "0        90    104    104    100    105    114     89     58     36     33   \n",
      "1        24     38     66     72     56     39     22     18     26     27   \n",
      "2         7     11     22     23     12      9     43     68     57     34   \n",
      "3      -374   -342   -326   -339   -341   -331   -334   -347   -370   -387   \n",
      "4        50     41     28     41     59     54     42     41     44     60   \n",
      "...     ...    ...    ...    ...    ...    ...    ...    ...    ...    ...   \n",
      "1195     -9    -26    -27    -13     16     25     34     27      5     -6   \n",
      "1196     -1     -2    -12    -34    -42    -23      8     11    -20    -19   \n",
      "1197     54     20     27     51     53     43     19      3     16     57   \n",
      "1198     -3      3     11     20     20     21     19     21     27     44   \n",
      "1199     67     60     64     82     91     59     18     26     55     66   \n",
      "\n",
      "      ...  row_196  row_197  row_198  row_199  row_200  row_201  row_202  \\\n",
      "0     ...       39       41       32       23       25       18        8   \n",
      "1     ...       21       18       16       16       20        8       -2   \n",
      "2     ...     -286     -307     -326     -317     -314     -342     -382   \n",
      "3     ...       29       41       68       87       92       86       75   \n",
      "4     ...       23       25        4       -4        5       19       16   \n",
      "...   ...      ...      ...      ...      ...      ...      ...      ...   \n",
      "1195  ...      -12        1       -9       -2       23       27       -2   \n",
      "1196  ...       58       85       73       54       34       16       68   \n",
      "1197  ...      -36      -19       25       54       53       36       20   \n",
      "1198  ...       75       57       19       25       83       91       80   \n",
      "1199  ...       85       50       58       87       93       73       34   \n",
      "\n",
      "      row_203  row_204    target  \n",
      "0          13       22  baseline  \n",
      "1           5        8  baseline  \n",
      "2        -403     -393  baseline  \n",
      "3          49       38  baseline  \n",
      "4           7       17  baseline  \n",
      "...       ...      ...       ...  \n",
      "1195      -18       -3   inhalar  \n",
      "1196      145      114   inhalar  \n",
      "1197       19        6   inhalar  \n",
      "1198       73       80   inhalar  \n",
      "1199        9       11   inhalar  \n",
      "\n",
      "[1200 rows x 206 columns]\n"
     ]
    }
   ],
   "execution_count": 5
  },
  {
   "metadata": {
    "ExecuteTime": {
     "end_time": "2024-07-21T19:25:51.827231Z",
     "start_time": "2024-07-21T19:25:51.794576Z"
    }
   },
   "cell_type": "code",
   "source": [
    "file_name = f'data/combined_dataset_{partition_number}_partitions.csv'\n",
    "final_combined_dataframe.to_csv(file_name, index=False)"
   ],
   "id": "fdab5a42ce32ee75",
   "outputs": [],
   "execution_count": 6
  },
  {
   "metadata": {
    "ExecuteTime": {
     "end_time": "2024-07-21T19:25:51.829864Z",
     "start_time": "2024-07-21T19:25:51.828159Z"
    }
   },
   "cell_type": "code",
   "source": "",
   "id": "6b4103866bab4108",
   "outputs": [],
   "execution_count": 6
  }
 ],
 "metadata": {
  "kernelspec": {
   "display_name": "Python 3",
   "language": "python",
   "name": "python3"
  },
  "language_info": {
   "codemirror_mode": {
    "name": "ipython",
    "version": 2
   },
   "file_extension": ".py",
   "mimetype": "text/x-python",
   "name": "python",
   "nbconvert_exporter": "python",
   "pygments_lexer": "ipython2",
   "version": "2.7.6"
  }
 },
 "nbformat": 4,
 "nbformat_minor": 5
}
