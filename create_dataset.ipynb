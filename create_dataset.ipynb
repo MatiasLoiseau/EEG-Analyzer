{
 "cells": [
  {
   "metadata": {},
   "cell_type": "markdown",
   "source": [
    "# Dataset creation\n",
    "\n",
    "This code performs several data processing tasks using pandas to manipulate a series of EEG (Electroencephalography) data files.\n",
    "\n",
    "The main characteristics of this code are:\n",
    "\n",
    "1. **Adjusting Size**: It finds the minimum number of rows among all the DataFrames and trims each DataFrame to that minimum length to ensure they all have the same number of rows.\n",
    "\n",
    "2. **Dividing DataFrames**: It defines a function `divide_into_10` that divides a DataFrame into 10 equal parts and resets the indices of each part. Then, it applies this function to each trimmed DataFrame and stores the parts in a dictionary `divided_dataframes`.\n",
    "\n",
    "3. **Processing DataFrames**: For each DataFrame in `divided_dataframes`, it applies the transposition function to each of the 10 parts, concatenates the transposed parts into a single DataFrame, and assigns a corresponding target.\n",
    "\n",
    "4. **Final Combination**: It concatenates all the combined DataFrames with their respective targets into a single final DataFrame `final_combined_dataframe`.\n"
   ],
   "id": "a7d7be432d824a01"
  },
  {
   "metadata": {
    "ExecuteTime": {
     "end_time": "2024-07-20T03:10:10.736603Z",
     "start_time": "2024-07-20T03:10:10.734226Z"
    }
   },
   "cell_type": "code",
   "source": "import pandas as pd",
   "id": "4d10d496e172891b",
   "outputs": [],
   "execution_count": 13
  },
  {
   "metadata": {
    "ExecuteTime": {
     "end_time": "2024-07-20T03:10:10.853059Z",
     "start_time": "2024-07-20T03:10:10.762489Z"
    }
   },
   "cell_type": "code",
   "source": [
    "column_names = ['timestamp', 'counter', 'eeg', 'attention', 'meditation', 'blinking']\n",
    "baseline = pd.read_csv('data/baseline.dat', delimiter=' ', names=column_names)\n",
    "exhalar = pd.read_csv('data/exhalar.dat', delimiter=' ', names=column_names)\n",
    "golpes1 = pd.read_csv('data/golpes1.dat', delimiter=' ', names=column_names)\n",
    "golpes2 = pd.read_csv('data/golpes2.dat', delimiter=' ', names=column_names)\n",
    "cerrados = pd.read_csv('data/cerrados.dat', delimiter=' ', names=column_names)\n",
    "mentalimagery = pd.read_csv('data/mentalimagery.dat', delimiter=' ', names=column_names)\n",
    "pestaneos = pd.read_csv('data/pestaneos.dat', delimiter=' ', names=column_names)\n",
    "inhalar = pd.read_csv('data/inhalar.dat', delimiter=' ', names=column_names)"
   ],
   "id": "a15bd421c93cefd8",
   "outputs": [],
   "execution_count": 14
  },
  {
   "metadata": {},
   "cell_type": "markdown",
   "source": "### Dividir dataset",
   "id": "b4a5cdf5b02431c1"
  },
  {
   "metadata": {
    "ExecuteTime": {
     "end_time": "2024-07-20T03:10:10.855859Z",
     "start_time": "2024-07-20T03:10:10.854002Z"
    }
   },
   "cell_type": "code",
   "source": "partition_number = 100",
   "id": "462bfd01673eaed7",
   "outputs": [],
   "execution_count": 15
  },
  {
   "metadata": {
    "ExecuteTime": {
     "end_time": "2024-07-20T03:10:10.890884Z",
     "start_time": "2024-07-20T03:10:10.856464Z"
    }
   },
   "cell_type": "code",
   "source": [
    "dataframes = [baseline, exhalar, golpes1, golpes2, cerrados, mentalimagery, pestaneos, inhalar]\n",
    "min_length = min(df.shape[0] for df in dataframes)\n",
    "dataframes_trimmed = [df.iloc[:min_length] for df in dataframes]\n",
    "\n",
    "def divide_into(df):\n",
    "    rows_per_df = len(df) // partition_number\n",
    "    return [df.iloc[i*rows_per_df: (i+1)*rows_per_df].reset_index(drop=True) for i in range(partition_number)]\n",
    "\n",
    "divided_dataframes = {}\n",
    "for i, df in enumerate(dataframes_trimmed):\n",
    "    divided_dataframes[f'dataframe_{i+1}'] = divide_into(df)"
   ],
   "id": "83ccab20ac82852b",
   "outputs": [],
   "execution_count": 16
  },
  {
   "metadata": {},
   "cell_type": "markdown",
   "source": "### Create dataset\n",
   "id": "536f7705ee77e02c"
  },
  {
   "metadata": {
    "ExecuteTime": {
     "end_time": "2024-07-20T03:10:11.093921Z",
     "start_time": "2024-07-20T03:10:10.891794Z"
    }
   },
   "cell_type": "code",
   "source": [
    "def transpose_eeg_dataframe(df):\n",
    "    transposed_df = df['eeg'].to_frame().T\n",
    "    transposed_df.columns = [f'row_{i}' for i in df.index]\n",
    "    return transposed_df\n",
    "\n",
    "targets = {\n",
    "    'dataframe_1': 'baseline',\n",
    "    'dataframe_2': 'exhalar',\n",
    "    'dataframe_3': 'golpes1',\n",
    "    'dataframe_4': 'golpes2',\n",
    "    'dataframe_5': 'cerrados',\n",
    "    'dataframe_6': 'mentalimagery',\n",
    "    'dataframe_7': 'pestaneos',\n",
    "    'dataframe_8': 'inhalar'\n",
    "}\n",
    "\n",
    "all_combined_dataframes = []\n",
    "for key, target in targets.items():\n",
    "    dataframe_list = divided_dataframes[key]\n",
    "    transposed_dataframes = []\n",
    "    for df in dataframe_list:\n",
    "        transposed_df = transpose_eeg_dataframe(df)\n",
    "        transposed_dataframes.append(transposed_df)\n",
    "    combined_dataframe = pd.concat(transposed_dataframes, ignore_index=True)\n",
    "    combined_dataframe['target'] = target\n",
    "    all_combined_dataframes.append(combined_dataframe)\n",
    "\n",
    "final_combined_dataframe = pd.concat(all_combined_dataframes, ignore_index=True)\n",
    "\n",
    "print(final_combined_dataframe)"
   ],
   "id": "19739d5f5b6bd9db",
   "outputs": [
    {
     "name": "stdout",
     "output_type": "stream",
     "text": [
      "     row_0  row_1  row_2  row_3  row_4  row_5  row_6  row_7  row_8  row_9  \\\n",
      "0       90    104    104    100    105    114     89     58     36     33   \n",
      "1        3     11     24     32     18     -6    -14     -2      3      3   \n",
      "2     -342   -326   -339   -341   -331   -334   -347   -370   -387   -406   \n",
      "3       -6     21     41     45     51     59     57     22    -21    -21   \n",
      "4       25     19     10      0     -5     -1     16     24     35     45   \n",
      "..     ...    ...    ...    ...    ...    ...    ...    ...    ...    ...   \n",
      "795     53     81     92     76     65     45     35     43     45     51   \n",
      "796     51     39     23     34     57     40      6     -5     22     38   \n",
      "797     22     68     21    -51    -75    -50    -50    -44    -12     23   \n",
      "798     10      9     36     59     42     -2    -33    -34     -7     16   \n",
      "799    -17      8     11     54     69     16     10     55     67     42   \n",
      "\n",
      "     ...  row_299  row_300  row_301  row_302  row_303  row_304  row_305  \\\n",
      "0    ...       16        1       10       34       39       16      -11   \n",
      "1    ...     -307     -326     -317     -314     -342     -382     -403   \n",
      "2    ...       18       17       32       32       18        9       21   \n",
      "3    ...       24       12       11        9        2      -11      -13   \n",
      "4    ...       12       32       49       66       66       64       67   \n",
      "..   ...      ...      ...      ...      ...      ...      ...      ...   \n",
      "795  ...       28       22       22       24       37       49       28   \n",
      "796  ...        3        4       -6       -8        3       -2      -20   \n",
      "797  ...       72       41       17       35       53       42       29   \n",
      "798  ...      -67      -22       -5      -34      -40       -7        8   \n",
      "799  ...       43       57       59       54       71       90       88   \n",
      "\n",
      "     row_306  row_307    target  \n",
      "0        -17       -3  baseline  \n",
      "1       -393     -374  baseline  \n",
      "2         21        1  baseline  \n",
      "3          7       32  baseline  \n",
      "4         45       10  baseline  \n",
      "..       ...      ...       ...  \n",
      "795       27       45   inhalar  \n",
      "796      -29      -20   inhalar  \n",
      "797       33       28   inhalar  \n",
      "798      -19      -43   inhalar  \n",
      "799       61       33   inhalar  \n",
      "\n",
      "[800 rows x 309 columns]\n"
     ]
    }
   ],
   "execution_count": 17
  },
  {
   "metadata": {
    "ExecuteTime": {
     "end_time": "2024-07-20T03:10:11.126710Z",
     "start_time": "2024-07-20T03:10:11.094561Z"
    }
   },
   "cell_type": "code",
   "source": [
    "file_name = f'data/combined_dataset_{partition_number}_partitions.csv'\n",
    "final_combined_dataframe.to_csv(file_name, index=False)"
   ],
   "id": "fdab5a42ce32ee75",
   "outputs": [],
   "execution_count": 18
  },
  {
   "metadata": {
    "ExecuteTime": {
     "end_time": "2024-07-20T03:10:11.129243Z",
     "start_time": "2024-07-20T03:10:11.127630Z"
    }
   },
   "cell_type": "code",
   "source": "",
   "id": "6b4103866bab4108",
   "outputs": [],
   "execution_count": 18
  }
 ],
 "metadata": {
  "kernelspec": {
   "display_name": "Python 3",
   "language": "python",
   "name": "python3"
  },
  "language_info": {
   "codemirror_mode": {
    "name": "ipython",
    "version": 2
   },
   "file_extension": ".py",
   "mimetype": "text/x-python",
   "name": "python",
   "nbconvert_exporter": "python",
   "pygments_lexer": "ipython2",
   "version": "2.7.6"
  }
 },
 "nbformat": 4,
 "nbformat_minor": 5
}
