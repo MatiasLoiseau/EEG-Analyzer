{
 "cells": [
  {
   "metadata": {},
   "cell_type": "markdown",
   "source": [
    "# Dataset creation\n",
    "\n",
    "This code performs several data processing tasks using pandas to manipulate a series of EEG (Electroencephalography) data files.\n",
    "\n",
    "The main characteristics of this code are:\n",
    "\n",
    "1. **Adjusting Size**: It finds the minimum number of rows among all the DataFrames and trims each DataFrame to that minimum length to ensure they all have the same number of rows.\n",
    "\n",
    "2. **Dividing DataFrames**: It defines a function `divide_into_10` that divides a DataFrame into 10 equal parts and resets the indices of each part. Then, it applies this function to each trimmed DataFrame and stores the parts in a dictionary `divided_dataframes`.\n",
    "\n",
    "3. **Processing DataFrames**: For each DataFrame in `divided_dataframes`, it applies the transposition function to each of the 10 parts, concatenates the transposed parts into a single DataFrame, and assigns a corresponding target.\n",
    "\n",
    "4. **Final Combination**: It concatenates all the combined DataFrames with their respective targets into a single final DataFrame `final_combined_dataframe`.\n"
   ],
   "id": "a7d7be432d824a01"
  },
  {
   "metadata": {
    "ExecuteTime": {
     "end_time": "2024-07-20T02:53:19.383050Z",
     "start_time": "2024-07-20T02:53:19.154941Z"
    }
   },
   "cell_type": "code",
   "source": "import pandas as pd",
   "id": "4d10d496e172891b",
   "outputs": [],
   "execution_count": 1
  },
  {
   "metadata": {
    "ExecuteTime": {
     "end_time": "2024-07-20T02:53:19.783581Z",
     "start_time": "2024-07-20T02:53:19.706522Z"
    }
   },
   "cell_type": "code",
   "source": [
    "column_names = ['timestamp', 'counter', 'eeg', 'attention', 'meditation', 'blinking']\n",
    "baseline = pd.read_csv('data/baseline.dat', delimiter=' ', names=column_names)\n",
    "exhalar = pd.read_csv('data/exhalar.dat', delimiter=' ', names=column_names)\n",
    "golpes1 = pd.read_csv('data/golpes1.dat', delimiter=' ', names=column_names)\n",
    "golpes2 = pd.read_csv('data/golpes2.dat', delimiter=' ', names=column_names)\n",
    "cerrados = pd.read_csv('data/cerrados.dat', delimiter=' ', names=column_names)\n",
    "mentalimagery = pd.read_csv('data/mentalimagery.dat', delimiter=' ', names=column_names)\n",
    "pestaneos = pd.read_csv('data/pestaneos.dat', delimiter=' ', names=column_names)\n",
    "inhalar = pd.read_csv('data/inhalar.dat', delimiter=' ', names=column_names)"
   ],
   "id": "a15bd421c93cefd8",
   "outputs": [],
   "execution_count": 2
  },
  {
   "metadata": {},
   "cell_type": "markdown",
   "source": "### Dividir dataset",
   "id": "b4a5cdf5b02431c1"
  },
  {
   "metadata": {
    "ExecuteTime": {
     "end_time": "2024-07-20T02:53:20.540921Z",
     "start_time": "2024-07-20T02:53:20.529478Z"
    }
   },
   "cell_type": "code",
   "source": [
    "dataframes = [baseline, exhalar, golpes1, golpes2, cerrados, mentalimagery, pestaneos, inhalar]\n",
    "min_length = min(df.shape[0] for df in dataframes)\n",
    "dataframes_trimmed = [df.iloc[:min_length] for df in dataframes]\n",
    "\n",
    "def divide_into_10(df):\n",
    "    rows_per_df = len(df) // 10\n",
    "    return [df.iloc[i*rows_per_df: (i+1)*rows_per_df].reset_index(drop=True) for i in range(10)]\n",
    "\n",
    "divided_dataframes = {}\n",
    "for i, df in enumerate(dataframes_trimmed):\n",
    "    divided_dataframes[f'dataframe_{i+1}'] = divide_into_10(df)"
   ],
   "id": "83ccab20ac82852b",
   "outputs": [],
   "execution_count": 3
  },
  {
   "metadata": {},
   "cell_type": "markdown",
   "source": "### Create dataset\n",
   "id": "536f7705ee77e02c"
  },
  {
   "metadata": {
    "ExecuteTime": {
     "end_time": "2024-07-20T02:53:22.841120Z",
     "start_time": "2024-07-20T02:53:22.753324Z"
    }
   },
   "cell_type": "code",
   "source": [
    "def transpose_eeg_dataframe(df):\n",
    "    transposed_df = df['eeg'].to_frame().T\n",
    "    transposed_df.columns = [f'row_{i}' for i in df.index]\n",
    "    return transposed_df\n",
    "\n",
    "targets = {\n",
    "    'dataframe_1': 'baseline',\n",
    "    'dataframe_2': 'exhalar',\n",
    "    'dataframe_3': 'golpes1',\n",
    "    'dataframe_4': 'golpes2',\n",
    "    'dataframe_5': 'cerrados',\n",
    "    'dataframe_6': 'mentalimagery',\n",
    "    'dataframe_7': 'pestaneos',\n",
    "    'dataframe_8': 'inhalar'\n",
    "}\n",
    "\n",
    "all_combined_dataframes = []\n",
    "for key, target in targets.items():\n",
    "    dataframe_list = divided_dataframes[key]\n",
    "    transposed_dataframes = []\n",
    "    for df in dataframe_list:\n",
    "        transposed_df = transpose_eeg_dataframe(df)\n",
    "        transposed_dataframes.append(transposed_df)\n",
    "    combined_dataframe = pd.concat(transposed_dataframes, ignore_index=True)\n",
    "    combined_dataframe['target'] = target\n",
    "    all_combined_dataframes.append(combined_dataframe)\n",
    "\n",
    "final_combined_dataframe = pd.concat(all_combined_dataframes, ignore_index=True)\n",
    "\n",
    "print(final_combined_dataframe)"
   ],
   "id": "19739d5f5b6bd9db",
   "outputs": [
    {
     "name": "stdout",
     "output_type": "stream",
     "text": [
      "    row_0  row_1  row_2  row_3  row_4  row_5  row_6  row_7  row_8  row_9  ...  \\\n",
      "0      90    104    104    100    105    114     89     58     36     33  ...   \n",
      "1      56     34     16      5     -5    -19    -22    -24    -22      4  ...   \n",
      "2      41     66     99    117    118    109     82     44     25     18  ...   \n",
      "3      84     87     73     74     55     35     40     57     66     51  ...   \n",
      "4      37     27     29     36     48     75     86     75     58     51  ...   \n",
      "..    ...    ...    ...    ...    ...    ...    ...    ...    ...    ...  ...   \n",
      "75     -3     -2    -12    -20    -23    -28    -22    -21    -42    -70  ...   \n",
      "76     12     25     45     51     54     53     39     27     41     55  ...   \n",
      "77     16      8     17     33     38     45     71     84     88     74  ...   \n",
      "78     37     44     84    103     77     39     34     55    122     83  ...   \n",
      "79     25     12     25     60     43     21     41     70     72     25  ...   \n",
      "\n",
      "    row_3073  row_3074  row_3075  row_3076  row_3077  row_3078  row_3079  \\\n",
      "0         29        26        33        44        57        51        32   \n",
      "1         44        35        25        27        41        45        40   \n",
      "2         16        16        40        70        91       100        86   \n",
      "3         25        51        68        67        53        41        33   \n",
      "4         99        92        90        89       102        98        80   \n",
      "..       ...       ...       ...       ...       ...       ...       ...   \n",
      "75        60        43        24        22        32        44        52   \n",
      "76        38        49        55        64        75        69        50   \n",
      "77       109       101        51        10         8        56        90   \n",
      "78        55        68        80        86        89       103       109   \n",
      "79       136       121        84        53        43        56        43   \n",
      "\n",
      "    row_3080  row_3081    target  \n",
      "0         38        61  baseline  \n",
      "1         35        36  baseline  \n",
      "2         73        75  baseline  \n",
      "3         33        42  baseline  \n",
      "4         64        44  baseline  \n",
      "..       ...       ...       ...  \n",
      "75        44        28   inhalar  \n",
      "76        40        28   inhalar  \n",
      "77        70        53   inhalar  \n",
      "78        97        59   inhalar  \n",
      "79        37        61   inhalar  \n",
      "\n",
      "[80 rows x 3083 columns]\n"
     ]
    }
   ],
   "execution_count": 4
  },
  {
   "metadata": {},
   "cell_type": "code",
   "outputs": [],
   "execution_count": null,
   "source": "",
   "id": "fdab5a42ce32ee75"
  }
 ],
 "metadata": {
  "kernelspec": {
   "display_name": "Python 3",
   "language": "python",
   "name": "python3"
  },
  "language_info": {
   "codemirror_mode": {
    "name": "ipython",
    "version": 2
   },
   "file_extension": ".py",
   "mimetype": "text/x-python",
   "name": "python",
   "nbconvert_exporter": "python",
   "pygments_lexer": "ipython2",
   "version": "2.7.6"
  }
 },
 "nbformat": 4,
 "nbformat_minor": 5
}
