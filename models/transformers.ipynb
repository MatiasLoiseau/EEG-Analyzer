{
 "nbformat": 4,
 "nbformat_minor": 0,
 "metadata": {
  "colab": {
   "provenance": []
  },
  "kernelspec": {
   "name": "python3",
   "display_name": "Python 3"
  },
  "language_info": {
   "name": "python"
  }
 },
 "cells": [
  {
   "cell_type": "code",
   "execution_count": 1,
   "metadata": {
    "colab": {
     "base_uri": "https://localhost:8080/"
    },
    "id": "s0M9CarYONh0",
    "outputId": "951a6cab-e056-4fba-d6f5-76066e08c171"
   },
   "outputs": [
    {
     "output_type": "stream",
     "name": "stderr",
     "text": [
      "/usr/local/lib/python3.10/dist-packages/torch/nn/modules/transformer.py:306: UserWarning: enable_nested_tensor is True, but self.use_nested_tensor is False because encoder_layer.self_attn.batch_first was not True(use batch_first for better inference performance)\n",
      "  warnings.warn(f\"enable_nested_tensor is True, but self.use_nested_tensor is False because {why_not_sparsity_fast_path}\")\n"
     ]
    },
    {
     "output_type": "stream",
     "name": "stdout",
     "text": [
      "Epoch [1/10], Loss: 1.1638, Accuracy: 0.6088\n",
      "Epoch [2/10], Loss: 0.5650, Accuracy: 0.7947\n",
      "Epoch [3/10], Loss: 0.6094, Accuracy: 0.8140\n",
      "Epoch [4/10], Loss: 0.4489, Accuracy: 0.8509\n",
      "Epoch [5/10], Loss: 0.5104, Accuracy: 0.8509\n",
      "Epoch [6/10], Loss: 0.3464, Accuracy: 0.8684\n",
      "Epoch [7/10], Loss: 0.3345, Accuracy: 0.8649\n",
      "Epoch [8/10], Loss: 0.3474, Accuracy: 0.8649\n",
      "Epoch [9/10], Loss: 0.3277, Accuracy: 0.8789\n",
      "Epoch [10/10], Loss: 0.3254, Accuracy: 0.8842\n",
      "Training complete.\n"
     ]
    }
   ],
   "source": [
    "import pandas as pd\n",
    "import torch\n",
    "import torch.nn as nn\n",
    "import torch.optim as optim\n",
    "from torch.utils.data import DataLoader, Dataset\n",
    "from sklearn.preprocessing import LabelEncoder\n",
    "\n",
    "file_path = 'combined_dataset_filtered_100_partitions.csv'\n",
    "data = pd.read_csv(file_path)\n",
    "\n",
    "label_encoder = LabelEncoder()\n",
    "data['target'] = label_encoder.fit_transform(data['target'])\n",
    "\n",
    "class TimeSeriesDataset(Dataset):\n",
    "    def __init__(self, data, sequence_length):\n",
    "        self.data = data\n",
    "        self.sequence_length = sequence_length\n",
    "        self.features = data.columns[:-1]  # Exclude the target column\n",
    "\n",
    "    def __len__(self):\n",
    "        return len(self.data) - self.sequence_length\n",
    "\n",
    "    def __getitem__(self, idx):\n",
    "        x = self.data[self.features].iloc[idx:idx+self.sequence_length].values\n",
    "        y = self.data['target'].iloc[idx+self.sequence_length]\n",
    "        return torch.tensor(x, dtype=torch.float32), torch.tensor(y, dtype=torch.long)\n",
    "\n",
    "sequence_length = 30\n",
    "dataset = TimeSeriesDataset(data, sequence_length)\n",
    "dataloader = DataLoader(dataset, batch_size=32, shuffle=True)\n",
    "\n",
    "class TransformerModel(nn.Module):\n",
    "    def __init__(self, input_size, num_layers, num_heads, hidden_dim, num_classes):\n",
    "        super(TransformerModel, self).__init__()\n",
    "        self.encoder_layer = nn.TransformerEncoderLayer(d_model=input_size, nhead=num_heads, dim_feedforward=hidden_dim)\n",
    "        self.transformer_encoder = nn.TransformerEncoder(self.encoder_layer, num_layers=num_layers)\n",
    "        self.fc = nn.Linear(input_size * sequence_length, num_classes)\n",
    "\n",
    "    def forward(self, x):\n",
    "        x = x.permute(1, 0, 2)  # Transpose for transformer input\n",
    "        x = self.transformer_encoder(x)\n",
    "        x = x.permute(1, 0, 2).contiguous().view(x.size(1), -1)  # Flatten\n",
    "        x = self.fc(x)\n",
    "        return x\n",
    "\n",
    "input_size = data.shape[1] - 1\n",
    "num_layers = 2\n",
    "num_heads = 4\n",
    "hidden_dim = 128\n",
    "num_classes = len(label_encoder.classes_)\n",
    "\n",
    "model = TransformerModel(input_size, num_layers, num_heads, hidden_dim, num_classes)\n",
    "\n",
    "criterion = nn.CrossEntropyLoss()\n",
    "optimizer = optim.Adam(model.parameters(), lr=0.001)\n",
    " \n",
    "num_epochs = 10\n",
    "for epoch in range(num_epochs):\n",
    "    total_loss = 0\n",
    "    correct = 0\n",
    "    total = 0\n",
    "\n",
    "    for x_batch, y_batch in dataloader:\n",
    "        optimizer.zero_grad()\n",
    "        outputs = model(x_batch)\n",
    "        loss = criterion(outputs, y_batch)\n",
    "        loss.backward()\n",
    "        optimizer.step()\n",
    "\n",
    "        total_loss += loss.item()\n",
    "        _, predicted = torch.max(outputs, 1)\n",
    "        correct += (predicted == y_batch).sum().item()\n",
    "        total += y_batch.size(0)\n",
    "\n",
    "    accuracy = correct / total\n",
    "    print(f'Epoch [{epoch+1}/{num_epochs}], Loss: {total_loss/len(dataloader):.4f}, Accuracy: {accuracy:.4f}')\n",
    "\n",
    "print(\"Training complete.\")\n"
   ]
  }
 ]
}
