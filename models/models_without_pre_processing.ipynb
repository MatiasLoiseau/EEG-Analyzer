{
 "cells": [
  {
   "metadata": {},
   "cell_type": "markdown",
   "source": [
    "# Models without pre-processing\n",
    "\n",
    "This code defines a dictionary of various machine learning models, including RandomForest, GradientBoosting, LogisticRegression, SVC, and DecisionTree. A function is used to train each model and evaluate its performance on the validation and test sets. The results, including validation and test accuracy for each model, are stored and printed, allowing for a comparative analysis of multiple machine learning algorithms on the same dataset.\n",
    "\n",
    "**Results:** Nothing good"
   ],
   "id": "4645edcfdbd0322d"
  },
  {
   "metadata": {
    "ExecuteTime": {
     "end_time": "2024-07-21T20:09:51.810239Z",
     "start_time": "2024-07-21T20:09:51.157618Z"
    }
   },
   "cell_type": "code",
   "source": [
    "import pandas as pd\n",
    "from sklearn.model_selection import train_test_split\n",
    "from sklearn.ensemble import RandomForestClassifier, GradientBoostingClassifier\n",
    "from sklearn.linear_model import LogisticRegression\n",
    "from sklearn.svm import SVC\n",
    "from sklearn.tree import DecisionTreeClassifier\n",
    "from sklearn.metrics import accuracy_score\n",
    "from sklearn.preprocessing import StandardScaler"
   ],
   "id": "d3ad6e1465076094",
   "outputs": [],
   "execution_count": 1
  },
  {
   "metadata": {
    "ExecuteTime": {
     "end_time": "2024-07-21T20:09:51.829906Z",
     "start_time": "2024-07-21T20:09:51.811247Z"
    }
   },
   "cell_type": "code",
   "source": "df = pd.read_csv('../data/combined_dataset_100_partitions.csv')",
   "id": "5c822b48fd8797f2",
   "outputs": [],
   "execution_count": 2
  },
  {
   "metadata": {
    "ExecuteTime": {
     "end_time": "2024-07-21T20:09:51.833456Z",
     "start_time": "2024-07-21T20:09:51.830642Z"
    }
   },
   "cell_type": "code",
   "source": [
    "X = df.drop('target', axis=1)\n",
    "y = df['target']"
   ],
   "id": "30420260774b62c0",
   "outputs": [],
   "execution_count": 3
  },
  {
   "metadata": {
    "ExecuteTime": {
     "end_time": "2024-07-21T20:09:51.839026Z",
     "start_time": "2024-07-21T20:09:51.834512Z"
    }
   },
   "cell_type": "code",
   "source": "X_train_val, X_test, y_train_val, y_test = train_test_split(X, y, test_size=0.2, random_state=42)",
   "id": "38bb26b7c48550b2",
   "outputs": [],
   "execution_count": 4
  },
  {
   "metadata": {
    "ExecuteTime": {
     "end_time": "2024-07-21T20:09:51.843479Z",
     "start_time": "2024-07-21T20:09:51.839695Z"
    }
   },
   "cell_type": "code",
   "source": "X_train, X_val, y_train, y_val = train_test_split(X_train_val, y_train_val, test_size=0.25, random_state=42)",
   "id": "378ab54a2058337d",
   "outputs": [],
   "execution_count": 5
  },
  {
   "metadata": {
    "ExecuteTime": {
     "end_time": "2024-07-21T20:09:51.854328Z",
     "start_time": "2024-07-21T20:09:51.844290Z"
    }
   },
   "cell_type": "code",
   "source": [
    "scaler = StandardScaler()\n",
    "X_train = scaler.fit_transform(X_train)\n",
    "X_val = scaler.transform(X_val)\n",
    "X_test = scaler.transform(X_test)"
   ],
   "id": "b80773e53669bee2",
   "outputs": [],
   "execution_count": 6
  },
  {
   "metadata": {
    "ExecuteTime": {
     "end_time": "2024-07-21T20:09:51.857200Z",
     "start_time": "2024-07-21T20:09:51.855087Z"
    }
   },
   "cell_type": "code",
   "source": [
    "models = {\n",
    "    \"RandomForest\": RandomForestClassifier(random_state=42),\n",
    "    \"GradientBoosting\": GradientBoostingClassifier(random_state=42),\n",
    "    \"LogisticRegression\": LogisticRegression(random_state=42, max_iter=1000),  # Increased max iterations\n",
    "    \"SVC\": SVC(random_state=42),\n",
    "    \"DecisionTree\": DecisionTreeClassifier(random_state=42)\n",
    "}"
   ],
   "id": "e36e9943da2118b2",
   "outputs": [],
   "execution_count": 7
  },
  {
   "metadata": {
    "ExecuteTime": {
     "end_time": "2024-07-21T20:09:51.860360Z",
     "start_time": "2024-07-21T20:09:51.858087Z"
    }
   },
   "cell_type": "code",
   "source": [
    "def train_and_evaluate(model, X_train, y_train, X_val, y_val, X_test, y_test):\n",
    "    model.fit(X_train, y_train)\n",
    "    y_val_pred = model.predict(X_val)\n",
    "    val_accuracy = accuracy_score(y_val, y_val_pred)\n",
    "    y_test_pred = model.predict(X_test)\n",
    "    test_accuracy = accuracy_score(y_test, y_test_pred)\n",
    "    return val_accuracy, test_accuracy"
   ],
   "id": "3a3dbcf6d3c956ba",
   "outputs": [],
   "execution_count": 8
  },
  {
   "metadata": {
    "ExecuteTime": {
     "end_time": "2024-07-21T20:10:11.857142Z",
     "start_time": "2024-07-21T20:09:51.861357Z"
    }
   },
   "cell_type": "code",
   "source": [
    "results = {}\n",
    "for model_name, model in models.items():\n",
    "    val_acc, test_acc = train_and_evaluate(model, X_train, y_train, X_val, y_val, X_test, y_test)\n",
    "    results[model_name] = {'Validation Accuracy': val_acc, 'Test Accuracy': test_acc}"
   ],
   "id": "486e0afb2466f585",
   "outputs": [],
   "execution_count": 9
  },
  {
   "metadata": {
    "ExecuteTime": {
     "end_time": "2024-07-21T20:10:11.861333Z",
     "start_time": "2024-07-21T20:10:11.858730Z"
    }
   },
   "cell_type": "code",
   "source": [
    "for model_name, metrics in results.items():\n",
    "    print(f'{model_name} - Validation Accuracy: {metrics[\"Validation Accuracy\"]:.2f}, Test Accuracy: {metrics[\"Test Accuracy\"]:.2f}')"
   ],
   "id": "d005a038affe464a",
   "outputs": [
    {
     "name": "stdout",
     "output_type": "stream",
     "text": [
      "RandomForest - Validation Accuracy: 0.26, Test Accuracy: 0.21\n",
      "GradientBoosting - Validation Accuracy: 0.26, Test Accuracy: 0.23\n",
      "LogisticRegression - Validation Accuracy: 0.16, Test Accuracy: 0.14\n",
      "SVC - Validation Accuracy: 0.19, Test Accuracy: 0.28\n",
      "DecisionTree - Validation Accuracy: 0.26, Test Accuracy: 0.21\n"
     ]
    }
   ],
   "execution_count": 10
  }
 ],
 "metadata": {
  "kernelspec": {
   "display_name": "Python 3",
   "language": "python",
   "name": "python3"
  },
  "language_info": {
   "codemirror_mode": {
    "name": "ipython",
    "version": 2
   },
   "file_extension": ".py",
   "mimetype": "text/x-python",
   "name": "python",
   "nbconvert_exporter": "python",
   "pygments_lexer": "ipython2",
   "version": "2.7.6"
  }
 },
 "nbformat": 4,
 "nbformat_minor": 5
}
